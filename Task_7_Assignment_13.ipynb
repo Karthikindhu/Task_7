{
  "nbformat": 4,
  "nbformat_minor": 0,
  "metadata": {
    "colab": {
      "name": "Task 7_assignment_13.ipynb",
      "provenance": [],
      "collapsed_sections": [],
      "include_colab_link": true
    },
    "kernelspec": {
      "name": "python3",
      "display_name": "Python 3"
    },
    "language_info": {
      "name": "python"
    }
  },
  "cells": [
    {
      "cell_type": "markdown",
      "metadata": {
        "id": "view-in-github",
        "colab_type": "text"
      },
      "source": [
        "<a href=\"https://colab.research.google.com/github/Karthikindhu/Task_7/blob/main/Task_7_Assignment_13.ipynb\" target=\"_parent\"><img src=\"https://colab.research.google.com/assets/colab-badge.svg\" alt=\"Open In Colab\"/></a>"
      ]
    },
    {
      "cell_type": "code",
      "metadata": {
        "id": "JolSMtbOfmc9"
      },
      "source": [
        "#Social_Networks_Ads.csv"
      ],
      "execution_count": null,
      "outputs": []
    },
    {
      "cell_type": "markdown",
      "metadata": {
        "id": "h_3tQC1Kf0ut"
      },
      "source": [
        "i)**Importing the libraries**"
      ]
    },
    {
      "cell_type": "code",
      "metadata": {
        "id": "EObl2Z6IfyG4"
      },
      "source": [
        "import pandas as pd\n",
        "import numpy as np\n",
        "import matplotlib.pyplot as plt\n",
        "import seaborn as sns"
      ],
      "execution_count": 2,
      "outputs": []
    },
    {
      "cell_type": "markdown",
      "metadata": {
        "id": "yxzr0NOWf73l"
      },
      "source": [
        "ii)**Importing the dataset**"
      ]
    },
    {
      "cell_type": "code",
      "metadata": {
        "id": "nN9xC2r6fyMZ",
        "outputId": "a18563c1-70b9-4c8f-c0da-477c9dfe1504",
        "colab": {
          "base_uri": "https://localhost:8080/",
          "height": 424
        }
      },
      "source": [
        "data = pd.read_csv('/content/Social_Network_Ads.csv')\n",
        "data"
      ],
      "execution_count": 3,
      "outputs": [
        {
          "output_type": "execute_result",
          "data": {
            "text/plain": [
              "      User ID  Gender  Age  EstimatedSalary  Purchased\n",
              "0    15624510    Male   19            19000          0\n",
              "1    15810944    Male   35            20000          0\n",
              "2    15668575  Female   26            43000          0\n",
              "3    15603246  Female   27            57000          0\n",
              "4    15804002    Male   19            76000          0\n",
              "..        ...     ...  ...              ...        ...\n",
              "395  15691863  Female   46            41000          1\n",
              "396  15706071    Male   51            23000          1\n",
              "397  15654296  Female   50            20000          1\n",
              "398  15755018    Male   36            33000          0\n",
              "399  15594041  Female   49            36000          1\n",
              "\n",
              "[400 rows x 5 columns]"
            ],
            "text/html": [
              "\n",
              "  <div id=\"df-7a548489-e72a-40cd-8ad6-ccfd82a25d65\">\n",
              "    <div class=\"colab-df-container\">\n",
              "      <div>\n",
              "<style scoped>\n",
              "    .dataframe tbody tr th:only-of-type {\n",
              "        vertical-align: middle;\n",
              "    }\n",
              "\n",
              "    .dataframe tbody tr th {\n",
              "        vertical-align: top;\n",
              "    }\n",
              "\n",
              "    .dataframe thead th {\n",
              "        text-align: right;\n",
              "    }\n",
              "</style>\n",
              "<table border=\"1\" class=\"dataframe\">\n",
              "  <thead>\n",
              "    <tr style=\"text-align: right;\">\n",
              "      <th></th>\n",
              "      <th>User ID</th>\n",
              "      <th>Gender</th>\n",
              "      <th>Age</th>\n",
              "      <th>EstimatedSalary</th>\n",
              "      <th>Purchased</th>\n",
              "    </tr>\n",
              "  </thead>\n",
              "  <tbody>\n",
              "    <tr>\n",
              "      <th>0</th>\n",
              "      <td>15624510</td>\n",
              "      <td>Male</td>\n",
              "      <td>19</td>\n",
              "      <td>19000</td>\n",
              "      <td>0</td>\n",
              "    </tr>\n",
              "    <tr>\n",
              "      <th>1</th>\n",
              "      <td>15810944</td>\n",
              "      <td>Male</td>\n",
              "      <td>35</td>\n",
              "      <td>20000</td>\n",
              "      <td>0</td>\n",
              "    </tr>\n",
              "    <tr>\n",
              "      <th>2</th>\n",
              "      <td>15668575</td>\n",
              "      <td>Female</td>\n",
              "      <td>26</td>\n",
              "      <td>43000</td>\n",
              "      <td>0</td>\n",
              "    </tr>\n",
              "    <tr>\n",
              "      <th>3</th>\n",
              "      <td>15603246</td>\n",
              "      <td>Female</td>\n",
              "      <td>27</td>\n",
              "      <td>57000</td>\n",
              "      <td>0</td>\n",
              "    </tr>\n",
              "    <tr>\n",
              "      <th>4</th>\n",
              "      <td>15804002</td>\n",
              "      <td>Male</td>\n",
              "      <td>19</td>\n",
              "      <td>76000</td>\n",
              "      <td>0</td>\n",
              "    </tr>\n",
              "    <tr>\n",
              "      <th>...</th>\n",
              "      <td>...</td>\n",
              "      <td>...</td>\n",
              "      <td>...</td>\n",
              "      <td>...</td>\n",
              "      <td>...</td>\n",
              "    </tr>\n",
              "    <tr>\n",
              "      <th>395</th>\n",
              "      <td>15691863</td>\n",
              "      <td>Female</td>\n",
              "      <td>46</td>\n",
              "      <td>41000</td>\n",
              "      <td>1</td>\n",
              "    </tr>\n",
              "    <tr>\n",
              "      <th>396</th>\n",
              "      <td>15706071</td>\n",
              "      <td>Male</td>\n",
              "      <td>51</td>\n",
              "      <td>23000</td>\n",
              "      <td>1</td>\n",
              "    </tr>\n",
              "    <tr>\n",
              "      <th>397</th>\n",
              "      <td>15654296</td>\n",
              "      <td>Female</td>\n",
              "      <td>50</td>\n",
              "      <td>20000</td>\n",
              "      <td>1</td>\n",
              "    </tr>\n",
              "    <tr>\n",
              "      <th>398</th>\n",
              "      <td>15755018</td>\n",
              "      <td>Male</td>\n",
              "      <td>36</td>\n",
              "      <td>33000</td>\n",
              "      <td>0</td>\n",
              "    </tr>\n",
              "    <tr>\n",
              "      <th>399</th>\n",
              "      <td>15594041</td>\n",
              "      <td>Female</td>\n",
              "      <td>49</td>\n",
              "      <td>36000</td>\n",
              "      <td>1</td>\n",
              "    </tr>\n",
              "  </tbody>\n",
              "</table>\n",
              "<p>400 rows × 5 columns</p>\n",
              "</div>\n",
              "      <button class=\"colab-df-convert\" onclick=\"convertToInteractive('df-7a548489-e72a-40cd-8ad6-ccfd82a25d65')\"\n",
              "              title=\"Convert this dataframe to an interactive table.\"\n",
              "              style=\"display:none;\">\n",
              "        \n",
              "  <svg xmlns=\"http://www.w3.org/2000/svg\" height=\"24px\"viewBox=\"0 0 24 24\"\n",
              "       width=\"24px\">\n",
              "    <path d=\"M0 0h24v24H0V0z\" fill=\"none\"/>\n",
              "    <path d=\"M18.56 5.44l.94 2.06.94-2.06 2.06-.94-2.06-.94-.94-2.06-.94 2.06-2.06.94zm-11 1L8.5 8.5l.94-2.06 2.06-.94-2.06-.94L8.5 2.5l-.94 2.06-2.06.94zm10 10l.94 2.06.94-2.06 2.06-.94-2.06-.94-.94-2.06-.94 2.06-2.06.94z\"/><path d=\"M17.41 7.96l-1.37-1.37c-.4-.4-.92-.59-1.43-.59-.52 0-1.04.2-1.43.59L10.3 9.45l-7.72 7.72c-.78.78-.78 2.05 0 2.83L4 21.41c.39.39.9.59 1.41.59.51 0 1.02-.2 1.41-.59l7.78-7.78 2.81-2.81c.8-.78.8-2.07 0-2.86zM5.41 20L4 18.59l7.72-7.72 1.47 1.35L5.41 20z\"/>\n",
              "  </svg>\n",
              "      </button>\n",
              "      \n",
              "  <style>\n",
              "    .colab-df-container {\n",
              "      display:flex;\n",
              "      flex-wrap:wrap;\n",
              "      gap: 12px;\n",
              "    }\n",
              "\n",
              "    .colab-df-convert {\n",
              "      background-color: #E8F0FE;\n",
              "      border: none;\n",
              "      border-radius: 50%;\n",
              "      cursor: pointer;\n",
              "      display: none;\n",
              "      fill: #1967D2;\n",
              "      height: 32px;\n",
              "      padding: 0 0 0 0;\n",
              "      width: 32px;\n",
              "    }\n",
              "\n",
              "    .colab-df-convert:hover {\n",
              "      background-color: #E2EBFA;\n",
              "      box-shadow: 0px 1px 2px rgba(60, 64, 67, 0.3), 0px 1px 3px 1px rgba(60, 64, 67, 0.15);\n",
              "      fill: #174EA6;\n",
              "    }\n",
              "\n",
              "    [theme=dark] .colab-df-convert {\n",
              "      background-color: #3B4455;\n",
              "      fill: #D2E3FC;\n",
              "    }\n",
              "\n",
              "    [theme=dark] .colab-df-convert:hover {\n",
              "      background-color: #434B5C;\n",
              "      box-shadow: 0px 1px 3px 1px rgba(0, 0, 0, 0.15);\n",
              "      filter: drop-shadow(0px 1px 2px rgba(0, 0, 0, 0.3));\n",
              "      fill: #FFFFFF;\n",
              "    }\n",
              "  </style>\n",
              "\n",
              "      <script>\n",
              "        const buttonEl =\n",
              "          document.querySelector('#df-7a548489-e72a-40cd-8ad6-ccfd82a25d65 button.colab-df-convert');\n",
              "        buttonEl.style.display =\n",
              "          google.colab.kernel.accessAllowed ? 'block' : 'none';\n",
              "\n",
              "        async function convertToInteractive(key) {\n",
              "          const element = document.querySelector('#df-7a548489-e72a-40cd-8ad6-ccfd82a25d65');\n",
              "          const dataTable =\n",
              "            await google.colab.kernel.invokeFunction('convertToInteractive',\n",
              "                                                     [key], {});\n",
              "          if (!dataTable) return;\n",
              "\n",
              "          const docLinkHtml = 'Like what you see? Visit the ' +\n",
              "            '<a target=\"_blank\" href=https://colab.research.google.com/notebooks/data_table.ipynb>data table notebook</a>'\n",
              "            + ' to learn more about interactive tables.';\n",
              "          element.innerHTML = '';\n",
              "          dataTable['output_type'] = 'display_data';\n",
              "          await google.colab.output.renderOutput(dataTable, element);\n",
              "          const docLink = document.createElement('div');\n",
              "          docLink.innerHTML = docLinkHtml;\n",
              "          element.appendChild(docLink);\n",
              "        }\n",
              "      </script>\n",
              "    </div>\n",
              "  </div>\n",
              "  "
            ]
          },
          "metadata": {},
          "execution_count": 3
        }
      ]
    },
    {
      "cell_type": "code",
      "metadata": {
        "id": "Z9gpSZOVfyPX",
        "outputId": "b015c724-574c-4b9e-da01-c839999282fb",
        "colab": {
          "base_uri": "https://localhost:8080/",
          "height": 206
        }
      },
      "source": [
        "data.head()"
      ],
      "execution_count": 4,
      "outputs": [
        {
          "output_type": "execute_result",
          "data": {
            "text/plain": [
              "    User ID  Gender  Age  EstimatedSalary  Purchased\n",
              "0  15624510    Male   19            19000          0\n",
              "1  15810944    Male   35            20000          0\n",
              "2  15668575  Female   26            43000          0\n",
              "3  15603246  Female   27            57000          0\n",
              "4  15804002    Male   19            76000          0"
            ],
            "text/html": [
              "\n",
              "  <div id=\"df-7cb334d4-7840-4741-9cc7-0e6416fa8a95\">\n",
              "    <div class=\"colab-df-container\">\n",
              "      <div>\n",
              "<style scoped>\n",
              "    .dataframe tbody tr th:only-of-type {\n",
              "        vertical-align: middle;\n",
              "    }\n",
              "\n",
              "    .dataframe tbody tr th {\n",
              "        vertical-align: top;\n",
              "    }\n",
              "\n",
              "    .dataframe thead th {\n",
              "        text-align: right;\n",
              "    }\n",
              "</style>\n",
              "<table border=\"1\" class=\"dataframe\">\n",
              "  <thead>\n",
              "    <tr style=\"text-align: right;\">\n",
              "      <th></th>\n",
              "      <th>User ID</th>\n",
              "      <th>Gender</th>\n",
              "      <th>Age</th>\n",
              "      <th>EstimatedSalary</th>\n",
              "      <th>Purchased</th>\n",
              "    </tr>\n",
              "  </thead>\n",
              "  <tbody>\n",
              "    <tr>\n",
              "      <th>0</th>\n",
              "      <td>15624510</td>\n",
              "      <td>Male</td>\n",
              "      <td>19</td>\n",
              "      <td>19000</td>\n",
              "      <td>0</td>\n",
              "    </tr>\n",
              "    <tr>\n",
              "      <th>1</th>\n",
              "      <td>15810944</td>\n",
              "      <td>Male</td>\n",
              "      <td>35</td>\n",
              "      <td>20000</td>\n",
              "      <td>0</td>\n",
              "    </tr>\n",
              "    <tr>\n",
              "      <th>2</th>\n",
              "      <td>15668575</td>\n",
              "      <td>Female</td>\n",
              "      <td>26</td>\n",
              "      <td>43000</td>\n",
              "      <td>0</td>\n",
              "    </tr>\n",
              "    <tr>\n",
              "      <th>3</th>\n",
              "      <td>15603246</td>\n",
              "      <td>Female</td>\n",
              "      <td>27</td>\n",
              "      <td>57000</td>\n",
              "      <td>0</td>\n",
              "    </tr>\n",
              "    <tr>\n",
              "      <th>4</th>\n",
              "      <td>15804002</td>\n",
              "      <td>Male</td>\n",
              "      <td>19</td>\n",
              "      <td>76000</td>\n",
              "      <td>0</td>\n",
              "    </tr>\n",
              "  </tbody>\n",
              "</table>\n",
              "</div>\n",
              "      <button class=\"colab-df-convert\" onclick=\"convertToInteractive('df-7cb334d4-7840-4741-9cc7-0e6416fa8a95')\"\n",
              "              title=\"Convert this dataframe to an interactive table.\"\n",
              "              style=\"display:none;\">\n",
              "        \n",
              "  <svg xmlns=\"http://www.w3.org/2000/svg\" height=\"24px\"viewBox=\"0 0 24 24\"\n",
              "       width=\"24px\">\n",
              "    <path d=\"M0 0h24v24H0V0z\" fill=\"none\"/>\n",
              "    <path d=\"M18.56 5.44l.94 2.06.94-2.06 2.06-.94-2.06-.94-.94-2.06-.94 2.06-2.06.94zm-11 1L8.5 8.5l.94-2.06 2.06-.94-2.06-.94L8.5 2.5l-.94 2.06-2.06.94zm10 10l.94 2.06.94-2.06 2.06-.94-2.06-.94-.94-2.06-.94 2.06-2.06.94z\"/><path d=\"M17.41 7.96l-1.37-1.37c-.4-.4-.92-.59-1.43-.59-.52 0-1.04.2-1.43.59L10.3 9.45l-7.72 7.72c-.78.78-.78 2.05 0 2.83L4 21.41c.39.39.9.59 1.41.59.51 0 1.02-.2 1.41-.59l7.78-7.78 2.81-2.81c.8-.78.8-2.07 0-2.86zM5.41 20L4 18.59l7.72-7.72 1.47 1.35L5.41 20z\"/>\n",
              "  </svg>\n",
              "      </button>\n",
              "      \n",
              "  <style>\n",
              "    .colab-df-container {\n",
              "      display:flex;\n",
              "      flex-wrap:wrap;\n",
              "      gap: 12px;\n",
              "    }\n",
              "\n",
              "    .colab-df-convert {\n",
              "      background-color: #E8F0FE;\n",
              "      border: none;\n",
              "      border-radius: 50%;\n",
              "      cursor: pointer;\n",
              "      display: none;\n",
              "      fill: #1967D2;\n",
              "      height: 32px;\n",
              "      padding: 0 0 0 0;\n",
              "      width: 32px;\n",
              "    }\n",
              "\n",
              "    .colab-df-convert:hover {\n",
              "      background-color: #E2EBFA;\n",
              "      box-shadow: 0px 1px 2px rgba(60, 64, 67, 0.3), 0px 1px 3px 1px rgba(60, 64, 67, 0.15);\n",
              "      fill: #174EA6;\n",
              "    }\n",
              "\n",
              "    [theme=dark] .colab-df-convert {\n",
              "      background-color: #3B4455;\n",
              "      fill: #D2E3FC;\n",
              "    }\n",
              "\n",
              "    [theme=dark] .colab-df-convert:hover {\n",
              "      background-color: #434B5C;\n",
              "      box-shadow: 0px 1px 3px 1px rgba(0, 0, 0, 0.15);\n",
              "      filter: drop-shadow(0px 1px 2px rgba(0, 0, 0, 0.3));\n",
              "      fill: #FFFFFF;\n",
              "    }\n",
              "  </style>\n",
              "\n",
              "      <script>\n",
              "        const buttonEl =\n",
              "          document.querySelector('#df-7cb334d4-7840-4741-9cc7-0e6416fa8a95 button.colab-df-convert');\n",
              "        buttonEl.style.display =\n",
              "          google.colab.kernel.accessAllowed ? 'block' : 'none';\n",
              "\n",
              "        async function convertToInteractive(key) {\n",
              "          const element = document.querySelector('#df-7cb334d4-7840-4741-9cc7-0e6416fa8a95');\n",
              "          const dataTable =\n",
              "            await google.colab.kernel.invokeFunction('convertToInteractive',\n",
              "                                                     [key], {});\n",
              "          if (!dataTable) return;\n",
              "\n",
              "          const docLinkHtml = 'Like what you see? Visit the ' +\n",
              "            '<a target=\"_blank\" href=https://colab.research.google.com/notebooks/data_table.ipynb>data table notebook</a>'\n",
              "            + ' to learn more about interactive tables.';\n",
              "          element.innerHTML = '';\n",
              "          dataTable['output_type'] = 'display_data';\n",
              "          await google.colab.output.renderOutput(dataTable, element);\n",
              "          const docLink = document.createElement('div');\n",
              "          docLink.innerHTML = docLinkHtml;\n",
              "          element.appendChild(docLink);\n",
              "        }\n",
              "      </script>\n",
              "    </div>\n",
              "  </div>\n",
              "  "
            ]
          },
          "metadata": {},
          "execution_count": 4
        }
      ]
    },
    {
      "cell_type": "markdown",
      "metadata": {
        "id": "_lrDXgjIgGJ3"
      },
      "source": [
        "iii) **Splitting the dataset into the Training set and Test set**"
      ]
    },
    {
      "cell_type": "code",
      "metadata": {
        "id": "z2QWVTZUfyUB"
      },
      "source": [
        "X=data.iloc[:,2:4]\n",
        "y=data.iloc[:,-1].values"
      ],
      "execution_count": 5,
      "outputs": []
    },
    {
      "cell_type": "code",
      "source": [
        "X.shape"
      ],
      "metadata": {
        "id": "fN0bXx_GIjRN",
        "outputId": "79ac5a2f-9e58-419f-f349-6ecf97af72a5",
        "colab": {
          "base_uri": "https://localhost:8080/"
        }
      },
      "execution_count": null,
      "outputs": [
        {
          "output_type": "execute_result",
          "data": {
            "text/plain": [
              "(400, 2)"
            ]
          },
          "metadata": {},
          "execution_count": 9
        }
      ]
    },
    {
      "cell_type": "code",
      "source": [
        "y.shape"
      ],
      "metadata": {
        "id": "U1fU-MdGIkeM",
        "outputId": "64717b24-a11f-4bb3-a9f3-ee381466a1a4",
        "colab": {
          "base_uri": "https://localhost:8080/"
        }
      },
      "execution_count": 6,
      "outputs": [
        {
          "output_type": "execute_result",
          "data": {
            "text/plain": [
              "(400,)"
            ]
          },
          "metadata": {},
          "execution_count": 6
        }
      ]
    },
    {
      "cell_type": "code",
      "source": [
        "from sklearn.model_selection import train_test_split\n",
        "X_train,X_test,y_train,y_test=train_test_split(X,y,test_size=0.2)"
      ],
      "metadata": {
        "id": "d6fmF5ZlIndd"
      },
      "execution_count": 7,
      "outputs": []
    },
    {
      "cell_type": "code",
      "source": [
        "X_train.shape"
      ],
      "metadata": {
        "id": "NqnbRsLxIrl0",
        "outputId": "36cbdbec-70bb-4f28-c07c-c3582bcaf105",
        "colab": {
          "base_uri": "https://localhost:8080/"
        }
      },
      "execution_count": 8,
      "outputs": [
        {
          "output_type": "execute_result",
          "data": {
            "text/plain": [
              "(320, 2)"
            ]
          },
          "metadata": {},
          "execution_count": 8
        }
      ]
    },
    {
      "cell_type": "code",
      "source": [
        "X_test.shape"
      ],
      "metadata": {
        "id": "v6R5c1qkItDN",
        "outputId": "63916db3-0d0f-4ced-a01a-a7e285dae7d5",
        "colab": {
          "base_uri": "https://localhost:8080/"
        }
      },
      "execution_count": 9,
      "outputs": [
        {
          "output_type": "execute_result",
          "data": {
            "text/plain": [
              "(80, 2)"
            ]
          },
          "metadata": {},
          "execution_count": 9
        }
      ]
    },
    {
      "cell_type": "markdown",
      "metadata": {
        "id": "XmzkAVfggNrD"
      },
      "source": [
        "iv) **Feature Scaling**"
      ]
    },
    {
      "cell_type": "code",
      "metadata": {
        "id": "UZUJ4Xn4fyW6"
      },
      "source": [
        "from sklearn.preprocessing import StandardScaler\n",
        "scaler = StandardScaler()"
      ],
      "execution_count": 10,
      "outputs": []
    },
    {
      "cell_type": "markdown",
      "metadata": {
        "id": "BWpz-G_KgaB5"
      },
      "source": [
        "v) **Fitting K-NN to the Training set**"
      ]
    },
    {
      "cell_type": "code",
      "metadata": {
        "id": "5Wo68lCqfyc6",
        "outputId": "6f172fb7-1230-484a-8def-2d75e31d653a",
        "colab": {
          "base_uri": "https://localhost:8080/"
        }
      },
      "source": [
        "X_train = scaler.fit_transform(X_train)\n",
        "X_train"
      ],
      "execution_count": 11,
      "outputs": [
        {
          "output_type": "execute_result",
          "data": {
            "text/plain": [
              "array([[-8.29511642e-01, -1.22117044e+00],\n",
              "       [-7.34268110e-01,  1.13038263e+00],\n",
              "       [ 1.36108961e+00,  1.33874809e+00],\n",
              "       [-3.53293979e-01,  1.36851458e+00],\n",
              "       [-9.24755175e-01, -2.98409107e-01],\n",
              "       [-4.48537512e-01, -1.22117044e+00],\n",
              "       [ 1.36108961e+00,  2.41034189e+00],\n",
              "       [-1.68670344e+00, -1.37000291e+00],\n",
              "       [-2.58050446e-01, -3.28175602e-01],\n",
              "       [-7.34268110e-01,  3.26687277e-01],\n",
              "       [-1.49621637e+00, -4.17475085e-01],\n",
              "       [ 2.02779434e+00, -8.04439514e-01],\n",
              "       [-6.75633810e-02,  2.67154288e-01],\n",
              "       [-8.29511642e-01, -2.38876118e-01],\n",
              "       [ 1.22923684e-01, -8.04439514e-01],\n",
              "       [-6.75633810e-02,  5.87888266e-02],\n",
              "       [-1.62806914e-01, -5.06774569e-01],\n",
              "       [-2.58050446e-01, -6.55607041e-01],\n",
              "       [-1.11524224e+00,  5.05286244e-01],\n",
              "       [ 6.94384880e-01, -1.39976940e+00],\n",
              "       [-2.58050446e-01, -5.66307558e-01],\n",
              "       [-8.29511642e-01,  1.77854805e-01],\n",
              "       [-1.78194697e+00,  2.07621299e-01],\n",
              "       [ 1.26584608e+00,  1.93407798e+00],\n",
              "       [ 1.22923684e-01,  1.18321816e-01],\n",
              "       [ 4.08654282e-01,  1.16014912e+00],\n",
              "       [-6.75633810e-02,  2.37387794e-01],\n",
              "       [ 3.13410750e-01, -5.06774569e-01],\n",
              "       [ 1.07535901e+00,  1.48088310e-01],\n",
              "       [-1.87719050e+00,  5.05286244e-01],\n",
              "       [-2.58050446e-01, -1.25093693e+00],\n",
              "       [ 2.12303787e+00, -8.04439514e-01],\n",
              "       [ 2.76801517e-02, -5.66307558e-01],\n",
              "       [-8.29511642e-01, -6.55607041e-01],\n",
              "       [ 1.07535901e+00, -9.83038481e-01],\n",
              "       [ 7.89628413e-01, -1.10210446e+00],\n",
              "       [ 1.83730727e+00, -2.68642613e-01],\n",
              "       [ 7.89628413e-01,  5.64819233e-01],\n",
              "       [ 7.89628413e-01,  1.42804757e+00],\n",
              "       [ 8.84871946e-01,  2.23174293e+00],\n",
              "       [-6.75633810e-02, -4.17475085e-01],\n",
              "       [-1.30572931e+00, -1.48906889e+00],\n",
              "       [ 1.45633314e+00, -1.04257147e+00],\n",
              "       [ 1.93255080e+00, -1.37000291e+00],\n",
              "       [ 1.64682021e+00, -8.93738997e-01],\n",
              "       [-6.39024577e-01, -1.04257147e+00],\n",
              "       [ 4.08654282e-01,  2.96920783e-01],\n",
              "       [ 5.03897815e-01,  1.27921510e+00],\n",
              "       [-1.11524224e+00, -1.10210446e+00],\n",
              "       [ 2.76801517e-02, -2.38876118e-01],\n",
              "       [ 1.22923684e-01,  1.93407798e+00],\n",
              "       [ 1.07535901e+00, -1.22117044e+00],\n",
              "       [ 1.17060254e+00, -1.45930239e+00],\n",
              "       [-1.01999871e+00,  5.64819233e-01],\n",
              "       [ 1.45633314e+00,  1.04108315e+00],\n",
              "       [ 3.13410750e-01,  5.35052739e-01],\n",
              "       [ 1.26584608e+00,  2.29127591e+00],\n",
              "       [-1.01999871e+00,  2.02337746e+00],\n",
              "       [-1.62806914e-01,  1.77854805e-01],\n",
              "       [-7.34268110e-01, -2.09109624e-01],\n",
              "       [-5.43781044e-01,  1.42804757e+00],\n",
              "       [-6.75633810e-02,  3.26687277e-01],\n",
              "       [-2.58050446e-01,  5.87888266e-02],\n",
              "       [ 1.55157667e+00,  2.90223321e-02],\n",
              "       [-1.59145990e+00,  5.64819233e-01],\n",
              "       [ 2.12303787e+00,  1.16014912e+00],\n",
              "       [-7.34268110e-01,  1.96384447e+00],\n",
              "       [ 1.22923684e-01,  2.96920783e-01],\n",
              "       [-1.01999871e+00, -3.57942096e-01],\n",
              "       [-2.58050446e-01,  1.18321816e-01],\n",
              "       [-6.39024577e-01,  1.45781407e+00],\n",
              "       [-5.43781044e-01, -1.51883538e+00],\n",
              "       [ 1.55157667e+00, -1.28070343e+00],\n",
              "       [-1.21048577e+00, -1.39976940e+00],\n",
              "       [-6.75633810e-02, -2.09109624e-01],\n",
              "       [-1.30572931e+00, -4.17475085e-01],\n",
              "       [ 2.02779434e+00, -1.19140394e+00],\n",
              "       [ 4.08654282e-01, -1.49576635e-01],\n",
              "       [-1.62806914e-01,  8.92250673e-01],\n",
              "       [-6.39024577e-01,  5.94585728e-01],\n",
              "       [ 1.22923684e-01,  5.87888266e-02],\n",
              "       [-2.58050446e-01, -1.37000291e+00],\n",
              "       [ 9.80115478e-01,  8.02951189e-01],\n",
              "       [ 3.13410750e-01,  8.85553211e-02],\n",
              "       [ 9.80115478e-01,  6.24352222e-01],\n",
              "       [-8.29511642e-01,  2.35080890e+00],\n",
              "       [ 4.08654282e-01, -4.47241580e-01],\n",
              "       [ 2.12303787e+00,  9.81550156e-01],\n",
              "       [ 2.18167217e-01,  5.87888266e-02],\n",
              "       [ 4.08654282e-01, -1.19810140e-01],\n",
              "       [-9.24755175e-01, -1.10210446e+00],\n",
              "       [ 5.99141348e-01,  2.08291045e+00],\n",
              "       [ 7.89628413e-01, -1.37000291e+00],\n",
              "       [ 2.18167217e-01,  2.17220994e+00],\n",
              "       [ 9.80115478e-01,  1.48088310e-01],\n",
              "       [ 4.08654282e-01,  3.26687277e-01],\n",
              "       [ 7.89628413e-01, -8.34206008e-01],\n",
              "       [-1.49621637e+00,  3.56453772e-01],\n",
              "       [ 1.17060254e+00, -9.83038481e-01],\n",
              "       [ 2.18167217e-01, -1.19810140e-01],\n",
              "       [-2.58050446e-01, -5.66307558e-01],\n",
              "       [-1.40097284e+00, -9.00436459e-02],\n",
              "       [ 1.07535901e+00,  2.14244344e+00],\n",
              "       [ 1.64682021e+00,  1.66617953e+00],\n",
              "       [-6.75633810e-02, -4.77008074e-01],\n",
              "       [-3.53293979e-01,  1.27921510e+00],\n",
              "       [-5.43781044e-01,  2.41034189e+00],\n",
              "       [ 3.13410750e-01,  8.85553211e-02],\n",
              "       [ 2.76801517e-02, -1.19810140e-01],\n",
              "       [-1.78194697e+00, -1.28070343e+00],\n",
              "       [-1.68670344e+00,  1.48088310e-01],\n",
              "       [-1.01999871e+00, -1.45930239e+00],\n",
              "       [ 7.89628413e-01, -1.39976940e+00],\n",
              "       [-6.39024577e-01, -9.00436459e-02],\n",
              "       [ 4.08654282e-01,  2.38057540e+00],\n",
              "       [-1.30572931e+00, -1.37000291e+00],\n",
              "       [-4.48537512e-01, -7.44162362e-04],\n",
              "       [ 7.89628413e-01, -1.22117044e+00],\n",
              "       [-1.30572931e+00, -4.17475085e-01],\n",
              "       [ 7.89628413e-01,  3.86220266e-01],\n",
              "       [-2.58050446e-01,  2.32104241e+00],\n",
              "       [-1.40097284e+00, -1.22117044e+00],\n",
              "       [-6.75633810e-02,  8.85553211e-02],\n",
              "       [ 1.22923684e-01,  5.87888266e-02],\n",
              "       [-1.01999871e+00,  4.45753255e-01],\n",
              "       [ 2.12303787e+00,  4.15986761e-01],\n",
              "       [-2.58050446e-01, -4.17475085e-01],\n",
              "       [ 8.84871946e-01, -1.16163745e+00],\n",
              "       [ 2.02779434e+00,  2.07621299e-01],\n",
              "       [ 2.18167217e-01, -3.57942096e-01],\n",
              "       [ 1.22923684e-01,  1.77854805e-01],\n",
              "       [ 8.84871946e-01, -1.37000291e+00],\n",
              "       [-4.48537512e-01, -7.74673019e-01],\n",
              "       [-1.62806914e-01,  1.69594602e+00],\n",
              "       [-6.75633810e-02, -5.06774569e-01],\n",
              "       [ 7.89628413e-01,  2.96920783e-01],\n",
              "       [ 3.13410750e-01,  8.85553211e-02],\n",
              "       [-1.21048577e+00,  5.35052739e-01],\n",
              "       [-7.34268110e-01,  5.35052739e-01],\n",
              "       [ 1.07535901e+00, -1.19810140e-01],\n",
              "       [ 1.83730727e+00, -1.28070343e+00],\n",
              "       [-5.43781044e-01,  1.51734706e+00],\n",
              "       [-1.01999871e+00,  6.24352222e-01],\n",
              "       [ 1.17060254e+00, -7.44906525e-01],\n",
              "       [-4.48537512e-01, -2.68642613e-01],\n",
              "       [-1.11524224e+00, -7.74673019e-01],\n",
              "       [-6.75633810e-02, -1.07233796e+00],\n",
              "       [-5.43781044e-01,  9.22017167e-01],\n",
              "       [-1.87719050e+00, -7.44906525e-01],\n",
              "       [ 8.84871946e-01,  1.13038263e+00],\n",
              "       [ 9.80115478e-01, -1.19140394e+00],\n",
              "       [ 2.18167217e-01, -2.98409107e-01],\n",
              "       [-2.58050446e-01,  8.85553211e-02],\n",
              "       [-4.48537512e-01, -5.36541063e-01],\n",
              "       [ 3.13410750e-01, -5.06774569e-01],\n",
              "       [ 8.84871946e-01, -6.55607041e-01],\n",
              "       [-1.68670344e+00,  5.05286244e-01],\n",
              "       [-1.11524224e+00, -1.54860188e+00],\n",
              "       [ 2.02779434e+00,  5.64819233e-01],\n",
              "       [ 1.83730727e+00, -1.07233796e+00],\n",
              "       [-1.68670344e+00, -5.96074052e-01],\n",
              "       [ 9.80115478e-01, -1.07233796e+00],\n",
              "       [ 1.74206374e+00,  1.90431149e+00],\n",
              "       [-3.53293979e-01, -7.74673019e-01],\n",
              "       [-7.34268110e-01, -1.60813487e+00],\n",
              "       [ 4.08654282e-01, -1.19810140e-01],\n",
              "       [ 1.22923684e-01,  2.37387794e-01],\n",
              "       [-9.24755175e-01,  2.96920783e-01],\n",
              "       [-1.21048577e+00,  6.24352222e-01],\n",
              "       [-1.87719050e+00, -5.06774569e-01],\n",
              "       [-2.58050446e-01, -2.68642613e-01],\n",
              "       [-1.21048577e+00,  3.26687277e-01],\n",
              "       [ 1.07535901e+00,  5.64819233e-01],\n",
              "       [-2.58050446e-01,  6.54118717e-01],\n",
              "       [ 2.76801517e-02, -2.98409107e-01],\n",
              "       [-5.43781044e-01,  5.05286244e-01],\n",
              "       [ 1.36108961e+00, -1.42953590e+00],\n",
              "       [-8.29511642e-01,  4.15986761e-01],\n",
              "       [-1.87719050e+00, -3.05106569e-02],\n",
              "       [-1.11524224e+00, -1.57836837e+00],\n",
              "       [-6.39024577e-01,  5.87888266e-02],\n",
              "       [-1.21048577e+00, -1.07233796e+00],\n",
              "       [ 1.22923684e-01,  1.93407798e+00],\n",
              "       [ 4.08654282e-01,  6.24352222e-01],\n",
              "       [ 3.13410750e-01,  5.87888266e-02],\n",
              "       [ 2.76801517e-02, -4.17475085e-01],\n",
              "       [ 9.80115478e-01,  1.93407798e+00],\n",
              "       [-9.24755175e-01, -4.17475085e-01],\n",
              "       [-6.75633810e-02,  2.90223321e-02],\n",
              "       [ 9.80115478e-01, -1.16163745e+00],\n",
              "       [ 1.07535901e+00, -8.93738997e-01],\n",
              "       [ 2.76801517e-02, -5.66307558e-01],\n",
              "       [-1.40097284e+00,  3.86220266e-01],\n",
              "       [-1.68670344e+00, -9.83038481e-01],\n",
              "       [ 2.02779434e+00,  4.15986761e-01],\n",
              "       [ 1.36108961e+00,  6.24352222e-01],\n",
              "       [ 1.93255080e+00, -9.23505492e-01],\n",
              "       [ 2.18167217e-01, -6.55607041e-01],\n",
              "       [-1.87719050e+00,  3.86220266e-01],\n",
              "       [-1.11524224e+00, -1.16163745e+00],\n",
              "       [-4.48537512e-01,  2.38057540e+00],\n",
              "       [-6.39024577e-01, -3.28175602e-01],\n",
              "       [ 2.76801517e-02,  3.26687277e-01],\n",
              "       [ 3.13410750e-01, -1.16163745e+00],\n",
              "       [ 2.18167217e-01,  1.77854805e-01],\n",
              "       [-6.39024577e-01, -1.51883538e+00],\n",
              "       [ 6.94384880e-01, -1.10210446e+00],\n",
              "       [-6.75633810e-02,  2.96920783e-01],\n",
              "       [-2.58050446e-01, -3.57942096e-01],\n",
              "       [ 1.83730727e+00,  1.57688005e+00],\n",
              "       [ 3.13410750e-01,  3.26687277e-01],\n",
              "       [ 2.76801517e-02,  1.30898160e+00],\n",
              "       [-1.30572931e+00,  5.94585728e-01],\n",
              "       [-1.78194697e+00, -1.48906889e+00],\n",
              "       [-2.58050446e-01,  1.77854805e-01],\n",
              "       [-2.58050446e-01, -1.45930239e+00],\n",
              "       [-5.43781044e-01,  1.42804757e+00],\n",
              "       [ 9.80115478e-01, -1.01280498e+00],\n",
              "       [ 4.08654282e-01,  2.90223321e-02],\n",
              "       [ 1.26584608e+00, -1.37000291e+00],\n",
              "       [ 2.76801517e-02,  1.27921510e+00],\n",
              "       [-1.40097284e+00, -1.79343129e-01],\n",
              "       [ 7.89628413e-01, -2.98409107e-01],\n",
              "       [-4.48537512e-01, -8.34206008e-01],\n",
              "       [-2.58050446e-01,  5.64819233e-01],\n",
              "       [ 5.03897815e-01,  1.90431149e+00],\n",
              "       [ 9.80115478e-01,  2.05314396e+00],\n",
              "       [ 1.07535901e+00,  5.94585728e-01],\n",
              "       [-6.39024577e-01, -1.60813487e+00],\n",
              "       [ 3.13410750e-01, -2.98409107e-01],\n",
              "       [-9.24755175e-01, -7.44906525e-01],\n",
              "       [-2.58050446e-01, -8.93738997e-01],\n",
              "       [-2.58050446e-01, -2.38876118e-01],\n",
              "       [-8.29511642e-01, -7.74673019e-01],\n",
              "       [-3.53293979e-01,  8.85553211e-02],\n",
              "       [ 2.76801517e-02,  5.87888266e-02],\n",
              "       [ 3.13410750e-01,  8.85553211e-02],\n",
              "       [-1.59145990e+00, -3.05106569e-02],\n",
              "       [ 2.18167217e-01, -3.57942096e-01],\n",
              "       [-6.75633810e-02,  1.48088310e-01],\n",
              "       [-1.11524224e+00, -1.01280498e+00],\n",
              "       [ 8.84871946e-01, -7.74673019e-01],\n",
              "       [ 5.03897815e-01,  1.78524551e+00],\n",
              "       [ 9.80115478e-01, -1.07233796e+00],\n",
              "       [-9.24755175e-01,  1.60664654e+00],\n",
              "       [ 1.22923684e-01, -2.98409107e-01],\n",
              "       [ 2.18167217e-01,  1.77854805e-01],\n",
              "       [-9.24755175e-01,  5.94585728e-01],\n",
              "       [-1.30572931e+00, -3.28175602e-01],\n",
              "       [-1.49621637e+00, -1.79343129e-01],\n",
              "       [ 3.13410750e-01, -7.15140030e-01],\n",
              "       [-5.43781044e-01, -1.51883538e+00],\n",
              "       [ 8.84871946e-01, -1.04257147e+00],\n",
              "       [ 1.64682021e+00,  1.81501200e+00],\n",
              "       [ 1.17060254e+00,  5.64819233e-01],\n",
              "       [ 6.94384880e-01, -1.28070343e+00],\n",
              "       [-1.62806914e-01, -1.07233796e+00],\n",
              "       [-2.58050446e-01, -9.23505492e-01],\n",
              "       [ 4.08654282e-01,  1.04108315e+00],\n",
              "       [-6.75633810e-02,  2.29127591e+00],\n",
              "       [ 1.36108961e+00, -9.23505492e-01],\n",
              "       [ 8.84871946e-01,  1.07084964e+00],\n",
              "       [-3.53293979e-01, -1.31046992e+00],\n",
              "       [-7.34268110e-01,  1.39828108e+00],\n",
              "       [ 2.18167217e-01,  1.13038263e+00],\n",
              "       [ 6.94384880e-01, -7.15140030e-01],\n",
              "       [ 1.93255080e+00,  9.51783662e-01],\n",
              "       [-2.58050446e-01,  2.37387794e-01],\n",
              "       [-4.48537512e-01,  1.30898160e+00],\n",
              "       [-1.62806914e-01, -5.66307558e-01],\n",
              "       [-6.39024577e-01,  1.48088310e-01],\n",
              "       [-2.58050446e-01, -4.77008074e-01],\n",
              "       [ 1.22923684e-01, -8.04439514e-01],\n",
              "       [-9.24755175e-01, -9.53271986e-01],\n",
              "       [ 4.08654282e-01,  3.26687277e-01],\n",
              "       [-1.68670344e+00,  3.86220266e-01],\n",
              "       [ 7.89628413e-01,  1.48088310e-01],\n",
              "       [-1.62806914e-01, -1.79343129e-01],\n",
              "       [-9.24755175e-01,  4.75519750e-01],\n",
              "       [-6.39024577e-01, -3.05106569e-02],\n",
              "       [ 9.80115478e-01, -8.34206008e-01],\n",
              "       [-6.39024577e-01,  2.07621299e-01],\n",
              "       [ 2.12303787e+00, -1.04257147e+00],\n",
              "       [-1.78194697e+00,  4.75519750e-01],\n",
              "       [ 3.13410750e-01, -2.68642613e-01],\n",
              "       [-9.24755175e-01, -2.98409107e-01],\n",
              "       [-1.59145990e+00,  8.85553211e-02],\n",
              "       [ 9.80115478e-01,  1.84477850e+00],\n",
              "       [ 2.76801517e-02, -2.38876118e-01],\n",
              "       [ 8.84871946e-01, -5.96074052e-01],\n",
              "       [ 4.08654282e-01,  1.18321816e-01],\n",
              "       [ 4.08654282e-01, -4.77008074e-01],\n",
              "       [ 8.84871946e-01, -5.36541063e-01],\n",
              "       [-6.75633810e-02, -3.57942096e-01],\n",
              "       [-1.49621637e+00, -1.25093693e+00],\n",
              "       [ 1.22923684e-01,  1.10061613e+00],\n",
              "       [ 2.12303787e+00, -8.04439514e-01],\n",
              "       [-7.34268110e-01, -5.96074052e-01],\n",
              "       [-1.59145990e+00, -1.57836837e+00],\n",
              "       [-7.34268110e-01,  2.96920783e-01],\n",
              "       [ 2.18167217e-01,  8.85553211e-02],\n",
              "       [-1.68670344e+00,  3.86220266e-01],\n",
              "       [-2.58050446e-01,  1.77854805e-01],\n",
              "       [ 1.93255080e+00,  2.23174293e+00],\n",
              "       [-1.11524224e+00,  4.45753255e-01],\n",
              "       [-1.40097284e+00, -6.25840547e-01],\n",
              "       [-9.24755175e-01,  4.45753255e-01],\n",
              "       [-7.34268110e-01, -1.54860188e+00],\n",
              "       [ 1.55157667e+00,  1.04108315e+00],\n",
              "       [-1.01999871e+00, -4.47241580e-01],\n",
              "       [ 1.93255080e+00,  7.73184695e-01],\n",
              "       [ 6.94384880e-01,  2.96920783e-01],\n",
              "       [-2.58050446e-01, -1.19810140e-01],\n",
              "       [-1.78194697e+00, -1.31046992e+00],\n",
              "       [-1.01999871e+00,  8.02951189e-01],\n",
              "       [ 6.94384880e-01, -1.39976940e+00],\n",
              "       [ 4.08654282e-01, -4.47241580e-01],\n",
              "       [-1.11524224e+00,  3.56453772e-01],\n",
              "       [ 2.02779434e+00,  1.81501200e+00],\n",
              "       [-6.75633810e-02,  2.23174293e+00]])"
            ]
          },
          "metadata": {},
          "execution_count": 11
        }
      ]
    },
    {
      "cell_type": "code",
      "source": [
        "np.sqrt(X_train.shape[0])"
      ],
      "metadata": {
        "id": "AcvgwJKHI7m7",
        "outputId": "cb8fe117-6f04-4299-ea24-ec56582bbde4",
        "colab": {
          "base_uri": "https://localhost:8080/"
        }
      },
      "execution_count": 12,
      "outputs": [
        {
          "output_type": "execute_result",
          "data": {
            "text/plain": [
              "17.88854381999832"
            ]
          },
          "metadata": {},
          "execution_count": 12
        }
      ]
    },
    {
      "cell_type": "code",
      "source": [
        "k = 17\n"
      ],
      "metadata": {
        "id": "qz3BLRRHJHNs"
      },
      "execution_count": 13,
      "outputs": []
    },
    {
      "cell_type": "code",
      "source": [
        "from sklearn.neighbors import KNeighborsClassifier\n",
        "knn = KNeighborsClassifier(n_neighbors=k)"
      ],
      "metadata": {
        "id": "59wenTrCJIFN"
      },
      "execution_count": 16,
      "outputs": []
    },
    {
      "cell_type": "code",
      "source": [
        "knn.fit(X_train,y_train)"
      ],
      "metadata": {
        "id": "fNgMmXfvJIO-",
        "outputId": "6317ad16-401c-41b3-f758-91b60f9a1437",
        "colab": {
          "base_uri": "https://localhost:8080/"
        }
      },
      "execution_count": 17,
      "outputs": [
        {
          "output_type": "execute_result",
          "data": {
            "text/plain": [
              "KNeighborsClassifier(n_neighbors=17)"
            ]
          },
          "metadata": {},
          "execution_count": 17
        }
      ]
    },
    {
      "cell_type": "code",
      "source": [
        "y_pred = knn.predict(X_test)"
      ],
      "metadata": {
        "id": "NRjb6_nTJSu0",
        "outputId": "1fc53cdf-42e4-4f6a-b895-6448fdea4dd0",
        "colab": {
          "base_uri": "https://localhost:8080/"
        }
      },
      "execution_count": 18,
      "outputs": [
        {
          "output_type": "stream",
          "name": "stderr",
          "text": [
            "/usr/local/lib/python3.7/dist-packages/sklearn/base.py:444: UserWarning: X has feature names, but KNeighborsClassifier was fitted without feature names\n",
            "  f\"X has feature names, but {self.__class__.__name__} was fitted without\"\n"
          ]
        }
      ]
    },
    {
      "cell_type": "code",
      "source": [
        "y_pred.shape"
      ],
      "metadata": {
        "id": "sr4cqfnxJVIk",
        "outputId": "3fa52986-8bf7-47f2-85ec-cec0bab08827",
        "colab": {
          "base_uri": "https://localhost:8080/"
        }
      },
      "execution_count": null,
      "outputs": [
        {
          "output_type": "execute_result",
          "data": {
            "text/plain": [
              "(80,)"
            ]
          },
          "metadata": {},
          "execution_count": 22
        }
      ]
    },
    {
      "cell_type": "code",
      "source": [
        "y_test.shape"
      ],
      "metadata": {
        "id": "y4qNm3KTJSx2",
        "outputId": "cc9afa84-99a3-46bd-f026-00ad07a28b1c",
        "colab": {
          "base_uri": "https://localhost:8080/"
        }
      },
      "execution_count": null,
      "outputs": [
        {
          "output_type": "execute_result",
          "data": {
            "text/plain": [
              "(80,)"
            ]
          },
          "metadata": {},
          "execution_count": 23
        }
      ]
    },
    {
      "cell_type": "markdown",
      "metadata": {
        "id": "GoGxoF-kgmlj"
      },
      "source": [
        "vi) **Predicting the Test set results**"
      ]
    },
    {
      "cell_type": "code",
      "metadata": {
        "id": "aEOlRLkefye3",
        "outputId": "e46238ac-081d-4df1-cb64-88f682b2900a",
        "colab": {
          "base_uri": "https://localhost:8080/"
        }
      },
      "source": [
        "from sklearn.metrics import accuracy_score\n",
        "accuracy_score(y_test,y_pred)"
      ],
      "execution_count": null,
      "outputs": [
        {
          "output_type": "execute_result",
          "data": {
            "text/plain": [
              "0.375"
            ]
          },
          "metadata": {},
          "execution_count": 23
        }
      ]
    },
    {
      "cell_type": "markdown",
      "metadata": {
        "id": "cYfKp7MQgwX7"
      },
      "source": [
        "vii) **Making the Confusion Matrix**"
      ]
    },
    {
      "cell_type": "code",
      "metadata": {
        "id": "zFhgq3Yufyh5",
        "outputId": "a3a24523-7605-4e27-b12b-0d1e410eae58",
        "colab": {
          "base_uri": "https://localhost:8080/"
        }
      },
      "source": [
        "from sklearn.metrics import confusion_matrix\n",
        "confusion_matrix(y_test,y_pred)"
      ],
      "execution_count": null,
      "outputs": [
        {
          "output_type": "execute_result",
          "data": {
            "text/plain": [
              "array([[ 0, 50],\n",
              "       [ 0, 30]])"
            ]
          },
          "metadata": {},
          "execution_count": 24
        }
      ]
    },
    {
      "cell_type": "code",
      "source": [
        "accuracy = []\n",
        "\n",
        "for i in range(1,26):\n",
        "    knn = KNeighborsClassifier(n_neighbors=i)\n",
        "    knn.fit(X_train,y_train)\n",
        "    accuracy.append(accuracyScore(y_test,knn.predict(X_test)))"
      ],
      "metadata": {
        "id": "t64dVDnbJeqE"
      },
      "execution_count": null,
      "outputs": []
    }
  ]
}